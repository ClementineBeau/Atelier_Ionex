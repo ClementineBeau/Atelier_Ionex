{
  "cells": [
    {
      "cell_type": "markdown",
      "metadata": {
        "id": "view-in-github",
        "colab_type": "text"
      },
      "source": [
        "<a href=\"https://colab.research.google.com/github/ClementineBeau/Atelier_Ionex/blob/main/notebook_atelier_v2.ipynb\" target=\"_parent\"><img src=\"https://colab.research.google.com/assets/colab-badge.svg\" alt=\"Open In Colab\"/></a>"
      ]
    },
    {
      "cell_type": "markdown",
      "id": "62dace79",
      "metadata": {
        "id": "62dace79"
      },
      "source": [
        "# Python pour l’analyse des cartes TEC IONEX\n",
        "\n",
        "Ce script Python a pour objectif de lire, traiter, décompresser, visualiser et analyser les cartes TEC (Total Electron Content) issues de fichiers IONEX. Ces cartes représentent la densité totale d’électrons dans l’ionosphère, une donnée importante pour la correction des signaux GNSS."
      ]
    },
    {
      "cell_type": "markdown",
      "source": [],
      "metadata": {
        "id": "lYZSsxvGRClA"
      },
      "id": "lYZSsxvGRClA"
    },
    {
      "cell_type": "markdown",
      "id": "8959d7ea",
      "metadata": {
        "id": "8959d7ea"
      },
      "source": [
        "Ce travail s’inspire du notebook [github](https://github.com/daniestevez/jupyter_notebooks/blob/master/IONEX.ipynb)."
      ]
    },
    {
      "cell_type": "markdown",
      "id": "85a03c3c",
      "metadata": {
        "id": "85a03c3c"
      },
      "source": [
        "\n",
        "#### Periode étudiée :\n",
        "La période étudiée s’étend du **1 au 17 août 2024**.\n",
        "Cette plage temporelle se situe au **maximum solaire du cycle 25**, période où le rayonnement extrême ultraviolet (EUV) émis par le Soleil est élevé, favorisant une forte ionisation de l’ionosphère. Le mois d'août est également proche de l’**anomalie équinoxiale** (effet saisonnier où la géométrie Terre–Soleil maximise la production électronique), ce qui contribue à élever les valeurs de TEC observées.\n",
        "\n",
        "from IPython.display import Image, display\n",
        "display(Image(url=\"https://www.swpc.noaa.gov/sites/default/files/images/solar-cycle-progression.png\"))\n",
        "Source du graphique : https://www.swpc.noaa.gov/products/solar-cycle-progression\n",
        "\n",
        "Vous pouvez aussi choisir la plage temporelle de votre choix, avec le nombre de jour que vous souhaitez. Si vous souhaitez utiliser d'autres données, elles sont téléchargeables ici : https://cddis.nasa.gov/archive/gnss/products/ionex. La suite de ce notebook permet de directement télécharger les données de base."
      ]
    },
    {
      "cell_type": "code",
      "execution_count": null,
      "id": "4d479683",
      "metadata": {
        "id": "4d479683"
      },
      "outputs": [],
      "source": [
        "#télécharge les données IONEX\n",
        "\n",
        "!git clone https://github.com/ClementineBeau/Atelier-Ionex.git/data/"
      ]
    },
    {
      "cell_type": "code",
      "execution_count": null,
      "id": "ee1a8081",
      "metadata": {
        "id": "ee1a8081",
        "outputId": "0f65717e-d1e0-4992-dce9-1cb5f829c2b3"
      },
      "outputs": [
        {
          "name": "stderr",
          "output_type": "stream",
          "text": [
            "  WARNING: The script pyproj.exe is installed in 'C:\\Users\\CLBEA237\\AppData\\Roaming\\Python\\Python311\\Scripts' which is not on PATH.\n",
            "  Consider adding this directory to PATH or, if you prefer to suppress this warning, use --no-warn-script-location.\n",
            "  WARNING: The script cartopy_feature_download.exe is installed in 'C:\\Users\\CLBEA237\\AppData\\Roaming\\Python\\Python311\\Scripts' which is not on PATH.\n",
            "  Consider adding this directory to PATH or, if you prefer to suppress this warning, use --no-warn-script-location.\n"
          ]
        },
        {
          "name": "stdout",
          "output_type": "stream",
          "text": [
            "Defaulting to user installation because normal site-packages is not writeable\n",
            "Collecting cartopy\n",
            "  Obtaining dependency information for cartopy from https://files.pythonhosted.org/packages/4f/ce/ba4baced164ecd78b4109cd611d7b64d256f012784e944c1b0f6f5dff5c1/Cartopy-0.24.1-cp311-cp311-win_amd64.whl.metadata\n",
            "  Downloading Cartopy-0.24.1-cp311-cp311-win_amd64.whl.metadata (8.1 kB)\n",
            "Requirement already satisfied: numpy>=1.23 in c:\\programdata\\anaconda3\\lib\\site-packages (from cartopy) (1.24.3)\n",
            "Requirement already satisfied: matplotlib>=3.6 in c:\\programdata\\anaconda3\\lib\\site-packages (from cartopy) (3.7.2)\n",
            "Collecting shapely>=1.8 (from cartopy)\n",
            "  Obtaining dependency information for shapely>=1.8 from https://files.pythonhosted.org/packages/93/5b/842022c00fbb051083c1c85430f3bb55565b7fd2d775f4f398c0ba8052ce/shapely-2.1.1-cp311-cp311-win_amd64.whl.metadata\n",
            "  Downloading shapely-2.1.1-cp311-cp311-win_amd64.whl.metadata (7.0 kB)\n",
            "Requirement already satisfied: packaging>=21 in c:\\programdata\\anaconda3\\lib\\site-packages (from cartopy) (23.1)\n",
            "Collecting pyshp>=2.3 (from cartopy)\n",
            "  Obtaining dependency information for pyshp>=2.3 from https://files.pythonhosted.org/packages/98/2f/68116db5b36b895c0450e3072b8cb6c2fac0359279b182ea97014d3c8ac0/pyshp-2.3.1-py2.py3-none-any.whl.metadata\n",
            "  Downloading pyshp-2.3.1-py2.py3-none-any.whl.metadata (55 kB)\n",
            "     ---------------------------------------- 0.0/56.0 kB ? eta -:--:--\n",
            "     ---------------------------------------- 56.0/56.0 kB 2.9 MB/s eta 0:00:00\n",
            "Collecting pyproj>=3.3.1 (from cartopy)\n",
            "  Obtaining dependency information for pyproj>=3.3.1 from https://files.pythonhosted.org/packages/92/39/ef6f06a5b223dbea308cfcbb7a0f72e7b506aef1850e061b2c73b0818715/pyproj-3.7.1-cp311-cp311-win_amd64.whl.metadata\n",
            "  Downloading pyproj-3.7.1-cp311-cp311-win_amd64.whl.metadata (31 kB)\n",
            "Requirement already satisfied: contourpy>=1.0.1 in c:\\programdata\\anaconda3\\lib\\site-packages (from matplotlib>=3.6->cartopy) (1.0.5)\n",
            "Requirement already satisfied: cycler>=0.10 in c:\\programdata\\anaconda3\\lib\\site-packages (from matplotlib>=3.6->cartopy) (0.11.0)\n",
            "Requirement already satisfied: fonttools>=4.22.0 in c:\\programdata\\anaconda3\\lib\\site-packages (from matplotlib>=3.6->cartopy) (4.25.0)\n",
            "Requirement already satisfied: kiwisolver>=1.0.1 in c:\\programdata\\anaconda3\\lib\\site-packages (from matplotlib>=3.6->cartopy) (1.4.4)\n",
            "Requirement already satisfied: pillow>=6.2.0 in c:\\programdata\\anaconda3\\lib\\site-packages (from matplotlib>=3.6->cartopy) (9.4.0)\n",
            "Requirement already satisfied: pyparsing<3.1,>=2.3.1 in c:\\programdata\\anaconda3\\lib\\site-packages (from matplotlib>=3.6->cartopy) (3.0.9)\n",
            "Requirement already satisfied: python-dateutil>=2.7 in c:\\programdata\\anaconda3\\lib\\site-packages (from matplotlib>=3.6->cartopy) (2.8.2)\n",
            "Requirement already satisfied: certifi in c:\\programdata\\anaconda3\\lib\\site-packages (from pyproj>=3.3.1->cartopy) (2023.7.22)\n",
            "Requirement already satisfied: six>=1.5 in c:\\programdata\\anaconda3\\lib\\site-packages (from python-dateutil>=2.7->matplotlib>=3.6->cartopy) (1.16.0)\n",
            "Downloading Cartopy-0.24.1-cp311-cp311-win_amd64.whl (11.0 MB)\n",
            "   ---------------------------------------- 0.0/11.0 MB ? eta -:--:--\n",
            "   - -------------------------------------- 0.3/11.0 MB 5.9 MB/s eta 0:00:02\n",
            "   --- ------------------------------------ 0.8/11.0 MB 8.9 MB/s eta 0:00:02\n",
            "   ------ --------------------------------- 1.7/11.0 MB 12.1 MB/s eta 0:00:01\n",
            "   --------- ------------------------------ 2.7/11.0 MB 14.4 MB/s eta 0:00:01\n",
            "   ------------- -------------------------- 3.8/11.0 MB 16.0 MB/s eta 0:00:01\n",
            "   ------------------ --------------------- 4.9/11.0 MB 17.5 MB/s eta 0:00:01\n",
            "   ------------------- -------------------- 5.2/11.0 MB 17.6 MB/s eta 0:00:01\n",
            "   ---------------------- ----------------- 6.3/11.0 MB 17.4 MB/s eta 0:00:01\n",
            "   ----------------------------- ---------- 8.1/11.0 MB 18.5 MB/s eta 0:00:01\n",
            "   ---------------------------------- ----- 9.4/11.0 MB 20.8 MB/s eta 0:00:01\n",
            "   ---------------------------------------  11.0/11.0 MB 24.2 MB/s eta 0:00:01\n",
            "   ---------------------------------------- 11.0/11.0 MB 22.6 MB/s eta 0:00:00\n",
            "Downloading pyproj-3.7.1-cp311-cp311-win_amd64.whl (6.3 MB)\n",
            "   ---------------------------------------- 0.0/6.3 MB ? eta -:--:--\n",
            "   ---------------------------------- ----- 5.4/6.3 MB 114.2 MB/s eta 0:00:01\n",
            "   ---------------------------------------- 6.3/6.3 MB 101.1 MB/s eta 0:00:00\n",
            "Downloading pyshp-2.3.1-py2.py3-none-any.whl (46 kB)\n",
            "   ---------------------------------------- 0.0/46.5 kB ? eta -:--:--\n",
            "   ---------------------------------------- 46.5/46.5 kB ? eta 0:00:00\n",
            "Downloading shapely-2.1.1-cp311-cp311-win_amd64.whl (1.7 MB)\n",
            "   ---------------------------------------- 0.0/1.7 MB ? eta -:--:--\n",
            "   ---------------------------------------- 1.7/1.7 MB 112.9 MB/s eta 0:00:00\n",
            "Installing collected packages: shapely, pyshp, pyproj, cartopy\n",
            "Successfully installed cartopy-0.24.1 pyproj-3.7.1 pyshp-2.3.1 shapely-2.1.1\n"
          ]
        },
        {
          "ename": "ModuleNotFoundError",
          "evalue": "No module named 'cartopy'",
          "output_type": "error",
          "traceback": [
            "\u001b[1;31m---------------------------------------------------------------------------\u001b[0m",
            "\u001b[1;31mModuleNotFoundError\u001b[0m                       Traceback (most recent call last)",
            "Cell \u001b[1;32mIn[1], line 8\u001b[0m\n\u001b[0;32m      6\u001b[0m \u001b[38;5;28;01mimport\u001b[39;00m \u001b[38;5;21;01mre\u001b[39;00m\n\u001b[0;32m      7\u001b[0m get_ipython()\u001b[38;5;241m.\u001b[39msystem(\u001b[38;5;124m'\u001b[39m\u001b[38;5;124mpip install cartopy\u001b[39m\u001b[38;5;124m'\u001b[39m)\n\u001b[1;32m----> 8\u001b[0m \u001b[38;5;28;01mimport\u001b[39;00m \u001b[38;5;21;01mcartopy\u001b[39;00m\n\u001b[0;32m      9\u001b[0m \u001b[38;5;28;01mimport\u001b[39;00m \u001b[38;5;21;01mcartopy\u001b[39;00m\u001b[38;5;21;01m.\u001b[39;00m\u001b[38;5;21;01mcrs\u001b[39;00m \u001b[38;5;28;01mas\u001b[39;00m \u001b[38;5;21;01mccrs\u001b[39;00m                                                                               \n\u001b[0;32m     10\u001b[0m \u001b[38;5;28;01mimport\u001b[39;00m \u001b[38;5;21;01mos\u001b[39;00m\n",
            "\u001b[1;31mModuleNotFoundError\u001b[0m: No module named 'cartopy'"
          ]
        }
      ],
      "source": [
        "import numpy as np\n",
        "import matplotlib.pyplot as plt\n",
        "from matplotlib.widgets import Slider\n",
        "import matplotlib.colors\n",
        "from mpl_toolkits.axes_grid1 import make_axes_locatable\n",
        "import re\n",
        "!pip install cartopy\n",
        "import cartopy\n",
        "import cartopy.crs as ccrs\n",
        "import os\n",
        "!pip install unlzw3\n",
        "import unlzw3"
      ]
    },
    {
      "cell_type": "markdown",
      "id": "474c9405",
      "metadata": {
        "id": "474c9405"
      },
      "source": [
        "## Paramètres"
      ]
    },
    {
      "cell_type": "code",
      "execution_count": null,
      "id": "062a519f",
      "metadata": {
        "id": "062a519f"
      },
      "outputs": [],
      "source": [
        "fig_size = [14, 10]\n",
        "plt.rcParams['figure.figsize'] = fig_size\n",
        "folder_ionex =\"/content/Fichiers-Atelier-IONEX/data-ionex\""
      ]
    },
    {
      "cell_type": "code",
      "execution_count": null,
      "id": "9062da6a",
      "metadata": {
        "id": "9062da6a"
      },
      "outputs": [],
      "source": [
        "https://www.spaceweatherlive.com/fr/archives.html mettre image"
      ]
    },
    {
      "cell_type": "markdown",
      "id": "52d82362",
      "metadata": {
        "id": "52d82362"
      },
      "source": [
        "## Fonctions"
      ]
    },
    {
      "cell_type": "code",
      "execution_count": null,
      "id": "30257ea7",
      "metadata": {
        "id": "30257ea7"
      },
      "outputs": [],
      "source": [
        "def parse_map(tecmap, exponent=-1):\n",
        "    '''\n",
        "    Extrait une carte TEC depuis une chaîne de texte brute issue d’un fichier IONEX\n",
        "    '''\n",
        "    tecmap = re.split('.*END OF TEC MAP', tecmap)[0]\n",
        "    return np.stack(\n",
        "        [np.fromstring(l, sep=' ') for l in re.split('.*LAT/LON1/LON2/DLON/H\\\\n', tecmap)[1:]]) * 10 ** exponent\n",
        "\n",
        "def get_tecmaps(filename):\n",
        "    '''\n",
        "    Lit un fichier IONEX et retourne toutes les cartes TEC qu’il contient\n",
        "    '''\n",
        "    with open(filename) as f:\n",
        "        ionex = f.read()\n",
        "        return [parse_map(t) for t in ionex.split('START OF TEC MAP')[1:]]\n",
        "\n",
        "def get_tec(tecmap, lat, lon):\n",
        "    #Extrait la valeur TEC à une latitude et longitude données.\n",
        "    i = round((87.5 - lat) * (tecmap.shape[0] - 1) / (2 * 87.5))\n",
        "    j = round((180 + lon) * (tecmap.shape[1] - 1) / 360)\n",
        "    return tecmap[i, j]\n",
        "\n",
        "def plot_tec_map(tecmap):\n",
        "    proj = ccrs.PlateCarree()\n",
        "    f, ax = plt.subplots(1, 1, subplot_kw=dict(projection=proj))\n",
        "    ax.coastlines()\n",
        "    h = plt.imshow(tecmap, cmap='viridis', vmin=0, vmax=100, extent=(-180, 180, -87.5, 87.5), transform=proj)\n",
        "    divider = make_axes_locatable(ax)\n",
        "    ax_cb = divider.new_horizontal(size='5%', pad=0.1, axes_class=plt.Axes)\n",
        "    f.add_axes(ax_cb)\n",
        "    cb = plt.colorbar(h, cax=ax_cb)\n",
        "    cb.set_label('TECU ($10^{16} \\\\mathrm{el}/\\\\mathrm{m}^2$)')\n",
        "\n",
        "def get_tecmaps_with_time(filename):\n",
        "    with open(filename) as f:\n",
        "        ionex = f.read()\n",
        "    # Séparer en blocs correspondant aux cartes\n",
        "    blocs = ionex.split('START OF TEC MAP')[1:]\n",
        "    cartes_dates = []\n",
        "    for bloc in blocs:\n",
        "        # Extraire la date juste avant \"START OF TEC MAP\" dans le texte complet\n",
        "        date_match = re.search(r'(\\d{4})\\s+(\\d{1,2})\\s+(\\d{1,2})\\s+(\\d{1,2})\\s+(\\d{1,2})\\s+(\\d{1,2})', bloc)\n",
        "        if date_match:\n",
        "            year, month, day, hour, minute, second = map(int, date_match.groups())\n",
        "        else:\n",
        "            year, month, day, hour, minute, second = (0, 0, 0, 0, 0, 0)\n",
        "\n",
        "        tecmap = parse_map(bloc)\n",
        "        cartes_dates.append(((year, month, day, hour, minute, second), tecmap))\n",
        "    return cartes_dates\n",
        "\n",
        "def decompress_ionex_file(filepath):\n",
        "    if not os.path.exists(filepath):\n",
        "        raise FileNotFoundError(f\"Fichier non trouvé : {filepath}\")\n",
        "    if filepath.lower().endswith(\".z\"):\n",
        "        filepath_out = filepath[:-2]\n",
        "    else:\n",
        "        print(f\"Fichier déjà décompressé: {filepath}\")\n",
        "        return filepath\n",
        "    if os.path.exists(filepath_out):\n",
        "        print(f\"Fichier déjà décompressé : {filepath_out}\")\n",
        "        return filepath_out\n",
        "    if filepath.lower().endswith(\".z\"):\n",
        "        with open(filepath, 'rb') as f_in:\n",
        "            data = unlzw(f_in.read())\n",
        "        with open(filepath_out, 'wb') as f_out:\n",
        "            f_out.write(data)\n",
        "        print(f\"Décompression .Z réussie, {filepath_out}\")\n",
        "    return filepath_out\n",
        "\n",
        "\n",
        "def plot_tec_map_ax(tecmap, ax):\n",
        "    ax.clear()\n",
        "    ax.coastlines()\n",
        "    proj = ccrs.PlateCarree()\n",
        "    im = ax.imshow(tecmap, cmap='viridis', vmin=0, vmax=100,\n",
        "                   extent=(-180, 180, -87.5, 87.5),\n",
        "                   transform=proj)\n",
        "    return im"
      ]
    },
    {
      "cell_type": "markdown",
      "id": "b39b9764",
      "metadata": {
        "id": "b39b9764"
      },
      "source": [
        "## Tracer le TEC mondial - carte intéractive"
      ]
    },
    {
      "cell_type": "code",
      "execution_count": null,
      "id": "60ba8969",
      "metadata": {
        "id": "60ba8969",
        "outputId": "8772d7e8-0c15-46db-e2a8-b2fb61b5d588"
      },
      "outputs": [
        {
          "ename": "NameError",
          "evalue": "name 'os' is not defined",
          "output_type": "error",
          "traceback": [
            "\u001b[1;31m---------------------------------------------------------------------------\u001b[0m",
            "\u001b[1;31mNameError\u001b[0m                                 Traceback (most recent call last)",
            "Cell \u001b[1;32mIn[2], line 1\u001b[0m\n\u001b[1;32m----> 1\u001b[0m files_ionex_Z \u001b[38;5;241m=\u001b[39m \u001b[38;5;28msorted\u001b[39m(os\u001b[38;5;241m.\u001b[39mlistdir(folder_ionex))\n\u001b[0;32m      3\u001b[0m \u001b[38;5;28;01mif\u001b[39;00m files_ionex_Z:\n\u001b[0;32m      4\u001b[0m     first_file_path \u001b[38;5;241m=\u001b[39m os\u001b[38;5;241m.\u001b[39mpath\u001b[38;5;241m.\u001b[39mjoin(folder_ionex, files_ionex_Z[\u001b[38;5;241m0\u001b[39m])\n",
            "\u001b[1;31mNameError\u001b[0m: name 'os' is not defined"
          ]
        }
      ],
      "source": [
        "files_ionex_Z = sorted(os.listdir(folder_ionex))\n",
        "\n",
        "if files_ionex_Z:\n",
        "    first_file_path = os.path.join(folder_ionex, files_ionex_Z[0])\n",
        "    file_ionex_i = decompress_ionex_file(first_file_path)\n",
        "carte_dates = get_tecmaps_with_time(file_ionex_i)\n",
        "\n",
        "\n",
        "proj = ccrs.PlateCarree()\n",
        "fig, ax = plt.subplots(subplot_kw=dict(projection=proj), figsize=(14, 10))\n",
        "plt.subplots_adjust(bottom=0.25)\n",
        "date0, tecmap0 = carte_dates[0]\n",
        "im = plot_tec_map_ax(tecmap0, ax)\n",
        "title = ax.set_title(f\"VTEC map — {date0[0]}-{date0[1]:02d}-{date0[2]:02d} {date0[3]:02d}:{date0[4]:02d}:{date0[5]:02d}\")\n",
        "cbar = fig.colorbar(im, ax=ax, orientation='vertical', fraction=0.046, pad=0.04)\n",
        "cbar.set_label('TECU ($10^{16} \\\\mathrm{el}/\\\\mathrm{m}^2$)')\n",
        "ax_slider = plt.axes([0.2, 0.1, 0.6, 0.03])  # position [gauche, bas, largeur, hauteur]\n",
        "slider = Slider(ax_slider, 'Temps', 0, len(carte_dates) - 1, valinit=0, valstep=1)\n",
        "def update(val):\n",
        "    idx = int(slider.val)\n",
        "    date, tecmap = carte_dates[idx]\n",
        "    im.set_data(tecmap)\n",
        "    title.set_text(f\"VTEC map — {date[0]}-{date[1]:02d}-{date[2]:02d} {date[3]:02d}:{date[4]:02d}:{date[5]:02d}\")\n",
        "    fig.canvas.draw_idle()\n",
        "slider.on_changed(update)\n",
        "plt.show()"
      ]
    },
    {
      "cell_type": "markdown",
      "id": "b103b08f",
      "metadata": {
        "id": "b103b08f"
      },
      "source": [
        "## Tracer les variations journalières du TEC à Québec"
      ]
    },
    {
      "cell_type": "code",
      "execution_count": null,
      "id": "a6dcb7c6",
      "metadata": {
        "id": "a6dcb7c6",
        "outputId": "30d2294b-79ff-4379-92d2-be6d1ff986b8"
      },
      "outputs": [
        {
          "ename": "NameError",
          "evalue": "name 'files_ionex_Z' is not defined",
          "output_type": "error",
          "traceback": [
            "\u001b[1;31m---------------------------------------------------------------------------\u001b[0m",
            "\u001b[1;31mNameError\u001b[0m                                 Traceback (most recent call last)",
            "Cell \u001b[1;32mIn[3], line 11\u001b[0m\n\u001b[0;32m      9\u001b[0m lat_QC \u001b[38;5;241m=\u001b[39m \u001b[38;5;241m46.8139\u001b[39m\n\u001b[0;32m     10\u001b[0m lon_QC \u001b[38;5;241m=\u001b[39m \u001b[38;5;241m-\u001b[39m\u001b[38;5;241m71.2082\u001b[39m\n\u001b[1;32m---> 11\u001b[0m \u001b[38;5;28;01mfor\u001b[39;00m day_idx, file \u001b[38;5;129;01min\u001b[39;00m \u001b[38;5;28menumerate\u001b[39m(\u001b[38;5;28msorted\u001b[39m(files_ionex_Z), start\u001b[38;5;241m=\u001b[39m\u001b[38;5;241m1\u001b[39m):\n\u001b[0;32m     12\u001b[0m     file_path \u001b[38;5;241m=\u001b[39m os\u001b[38;5;241m.\u001b[39mpath\u001b[38;5;241m.\u001b[39mjoin(folder_ionex, file)\n\u001b[0;32m     13\u001b[0m     file_ionex_i \u001b[38;5;241m=\u001b[39m decompress_ionex_file(file_path)\n",
            "\u001b[1;31mNameError\u001b[0m: name 'files_ionex_Z' is not defined"
          ]
        },
        {
          "data": {
            "image/png": "[encoded data removed]",
            "text/plain": [
              "<Figure size 1400x600 with 1 Axes>"
            ]
          },
          "metadata": {},
          "output_type": "display_data"
        }
      ],
      "source": [
        "lat_QC = 46.8139 #coordonnées hotel de ville de Québec\n",
        "lon_QC = -71.2082\n",
        "fig, ax = plt.subplots(figsize=(14, 6))\n",
        "\n",
        "norm = matplotlib.colors.Normalize(vmin=1, vmax=8)\n",
        "cmap = plt.cm.viridis\n",
        "sm = plt.cm.ScalarMappable(norm=norm, cmap=cmap)\n",
        "sm.set_array([])\n",
        "lat_QC = 46.8139\n",
        "lon_QC = -71.2082\n",
        "for day_idx, file in enumerate(sorted(files_ionex_Z), start=1):\n",
        "    file_path = os.path.join(folder_ionex, file)\n",
        "    file_ionex_i = decompress_ionex_file(file_path)\n",
        "    carte_dates = get_tecmaps_with_time(file_ionex_i)\n",
        "    # Construction des paires (heure, tec) et tri\n",
        "    data_points = [\n",
        "        (date[3] + date[4] / 60.0, get_tec(tecmap, lat_QC, lon_QC))\n",
        "        for date, tecmap in carte_dates\n",
        "    ]\n",
        "    data_points.sort()  # tri croissant sur l'heure\n",
        "    heures, tec_values = zip(*data_points)  # unzip les listes triées\n",
        "    ax.plot(heures, tec_values, color=cmap(norm(day_idx)), alpha=0.4)\n",
        "ax.set_title('Variations journalières du VTEC à Québec (1 courbe par jour, 8 jours)')\n",
        "ax.set_xlabel('Heure UTC')\n",
        "ax.set_ylabel('TECU ($10^{16} \\\\mathrm{el}/\\\\mathrm{m}^2$)')\n",
        "ax.grid(True)\n",
        "ax.set_xlim(0, 24)\n",
        "ax.set_xticks(np.arange(0, 25, 2))\n",
        "cbar = fig.colorbar(sm, ax=ax, orientation='vertical', label='Jour')\n",
        "plt.tight_layout()\n",
        "plt.show()\n"
      ]
    }
  ],
  "metadata": {
    "kernelspec": {
      "display_name": "Python 3 (ipykernel)",
      "language": "python",
      "name": "python3"
    },
    "language_info": {
      "codemirror_mode": {
        "name": "ipython",
        "version": 3
      },
      "file_extension": ".py",
      "mimetype": "text/x-python",
      "name": "python",
      "nbconvert_exporter": "python",
      "pygments_lexer": "ipython3",
      "version": "3.11.5"
    },
    "colab": {
      "provenance": [],
      "include_colab_link": true
    }
  },
  "nbformat": 4,
  "nbformat_minor": 5
}